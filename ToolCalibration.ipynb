{
 "cells": [
  {
   "cell_type": "code",
   "execution_count": 1,
   "metadata": {
    "collapsed": true
   },
   "outputs": [],
   "source": [
    "%matplotlib inline\n",
    "from matplotlib import pyplot as plt\n",
    "import numpy as np\n",
    "from LineSampler import LabViewFile\n",
    "from rigidTrans import *"
   ]
  },
  {
   "cell_type": "code",
   "execution_count": 2,
   "metadata": {
    "collapsed": false
   },
   "outputs": [],
   "source": [
    "labFile = LabViewFile('Calibration/29169419-0-1000-2016-05-23-at-13-14-23 - 339 at the origin and 449 at its position.txt')"
   ]
  },
  {
   "cell_type": "code",
   "execution_count": 3,
   "metadata": {
    "collapsed": false,
    "scrolled": true
   },
   "outputs": [
    {
     "data": {
      "text/plain": [
       "230"
      ]
     },
     "execution_count": 3,
     "metadata": {},
     "output_type": "execute_result"
    }
   ],
   "source": [
    "len(labFile.data)"
   ]
  },
  {
   "cell_type": "code",
   "execution_count": 4,
   "metadata": {
    "collapsed": false
   },
   "outputs": [],
   "source": [
    "vec1Data = [i.vec1 for i in labFile.data if i.vec1!=[0,0,0]]\n",
    "qua1Data = [i.qua1 for i in labFile.data if i.qua1!=[0,0,0,0]]\n",
    "vec2Data = [i.vec2 for i in labFile.data if i.vec2!=[0,0,0]]\n",
    "qua2Data = [i.qua2 for i in labFile.data if i.qua2!=[0,0,0,0]]"
   ]
  },
  {
   "cell_type": "code",
   "execution_count": 5,
   "metadata": {
    "collapsed": false
   },
   "outputs": [],
   "source": [
    "vec1 = np.mean(vec1Data, axis=0)\n",
    "vec2 = np.mean(vec2Data, axis=0)\n",
    "qua1 = np.mean(qua1Data, axis=0)\n",
    "qua2 = np.mean(qua2Data, axis=0)"
   ]
  },
  {
   "cell_type": "code",
   "execution_count": 6,
   "metadata": {
    "collapsed": false
   },
   "outputs": [],
   "source": [
    "R1 = rotMatFromQuat(qua1)\n",
    "R2 = rotMatFromQuat(qua2)"
   ]
  },
  {
   "cell_type": "markdown",
   "metadata": {},
   "source": [
    "##### Make the homogenous transformation matrices"
   ]
  },
  {
   "cell_type": "code",
   "execution_count": 7,
   "metadata": {
    "collapsed": true
   },
   "outputs": [],
   "source": [
    "H1to0 = homogenousTransformationMatrix(R1, list(vec1))\n",
    "H2to0 = homogenousTransformationMatrix(R2, list(vec2))"
   ]
  },
  {
   "cell_type": "code",
   "execution_count": 8,
   "metadata": {
    "collapsed": false
   },
   "outputs": [],
   "source": [
    "H0to1 = inverseHomegenousTransformation(H1to0)"
   ]
  },
  {
   "cell_type": "markdown",
   "metadata": {},
   "source": [
    "Above we make the static homogenous transformation that takes us from the front tool to the palm of the gripper.\n",
    "Below, we construct the homogeneous transformation that takes us from the palm, into the gripper and rotate the axes such that +z is coming straight out, +y is coming out between the two fingers, +x is placed to form a right handed system"
   ]
  },
  {
   "cell_type": "code",
   "execution_count": 9,
   "metadata": {
    "collapsed": false
   },
   "outputs": [],
   "source": [
    "ROriginTo2 = np.zeros((3,3))\n",
    "ROriginTo2[(0,1,2),(2,0,1)] = 1\n",
    "HOriginTo2 = homogenousTransformationMatrix(ROriginTo2, [-30., 0, 40.74])"
   ]
  },
  {
   "cell_type": "markdown",
   "metadata": {},
   "source": [
    "Below: We put all the transformations together. This new transformation can take in vectors in the coordinate frame of the gripper and present them in the coordinate frame of the front tool. This is a static transformation, it should not change with time (as opposed to the gripper location with respect to the bowl)"
   ]
  },
  {
   "cell_type": "code",
   "execution_count": 10,
   "metadata": {
    "collapsed": true
   },
   "outputs": [],
   "source": [
    "HOriginTo1 = H0to1.dot(H2to0.dot(HOriginTo2))"
   ]
  },
  {
   "cell_type": "code",
   "execution_count": 11,
   "metadata": {
    "collapsed": false
   },
   "outputs": [],
   "source": [
    "np.savetxt('449Calibration.txt',HOriginTo1, delimiter=',')"
   ]
  },
  {
   "cell_type": "markdown",
   "metadata": {},
   "source": [
    "We do the same procedure below for the second calibration file"
   ]
  },
  {
   "cell_type": "code",
   "execution_count": 12,
   "metadata": {
    "collapsed": false
   },
   "outputs": [],
   "source": [
    "labFile = LabViewFile('Calibration/89136885-0-1000-2016-05-25-at-18-17-21 - 449 at the center and 339 at its position.txt')"
   ]
  },
  {
   "cell_type": "code",
   "execution_count": 13,
   "metadata": {
    "collapsed": false
   },
   "outputs": [],
   "source": [
    "vec1Data = [i.vec1 for i in labFile.data if i.vec1!=[0,0,0]]\n",
    "qua1Data = [i.qua1 for i in labFile.data if i.qua1!=[0,0,0,0]]\n",
    "vec2Data = [i.vec2 for i in labFile.data if i.vec2!=[0,0,0]]\n",
    "qua2Data = [i.qua2 for i in labFile.data if i.qua2!=[0,0,0,0]]"
   ]
  },
  {
   "cell_type": "code",
   "execution_count": 14,
   "metadata": {
    "collapsed": false
   },
   "outputs": [],
   "source": [
    "vec1 = np.mean(vec1Data, axis=0)\n",
    "vec2 = np.mean(vec2Data, axis=0)\n",
    "qua1 = np.mean(qua1Data, axis=0)\n",
    "qua2 = np.mean(qua2Data, axis=0)"
   ]
  },
  {
   "cell_type": "code",
   "execution_count": 15,
   "metadata": {
    "collapsed": false
   },
   "outputs": [],
   "source": [
    "R1 = rotMatFromQuat(qua2)\n",
    "R2 = rotMatFromQuat(qua1)"
   ]
  },
  {
   "cell_type": "code",
   "execution_count": 16,
   "metadata": {
    "collapsed": true
   },
   "outputs": [],
   "source": [
    "H1to0 = homogenousTransformationMatrix(R1, list(vec2))\n",
    "H2to0 = homogenousTransformationMatrix(R2, list(vec1))"
   ]
  },
  {
   "cell_type": "code",
   "execution_count": 17,
   "metadata": {
    "collapsed": false
   },
   "outputs": [],
   "source": [
    "H0to1 = inverseHomegenousTransformation(H1to0)"
   ]
  },
  {
   "cell_type": "code",
   "execution_count": 18,
   "metadata": {
    "collapsed": false
   },
   "outputs": [],
   "source": [
    "ROriginTo2 = np.zeros((3,3))\n",
    "ROriginTo2[(0,1,2),(2,0,1)] = 1\n",
    "HOriginTo2 = homogenousTransformationMatrix(ROriginTo2, [-30., 0, 32.64])"
   ]
  },
  {
   "cell_type": "code",
   "execution_count": 19,
   "metadata": {
    "collapsed": true
   },
   "outputs": [],
   "source": [
    "HOriginTo1 = H0to1.dot(H2to0.dot(HOriginTo2))"
   ]
  },
  {
   "cell_type": "code",
   "execution_count": 20,
   "metadata": {
    "collapsed": false
   },
   "outputs": [],
   "source": [
    "np.savetxt('339Calibration.txt',HOriginTo1, delimiter=',')"
   ]
  },
  {
   "cell_type": "markdown",
   "metadata": {},
   "source": [
    "#### Now we need to do calibration for the pen tool (bowl origin)"
   ]
  },
  {
   "cell_type": "markdown",
   "metadata": {},
   "source": [
    "We recorded the location of the pen tip and assume that the NDI tracker is parallel to the table"
   ]
  },
  {
   "cell_type": "code",
   "execution_count": 23,
   "metadata": {
    "collapsed": false
   },
   "outputs": [],
   "source": [
    "origin = [161.30, 65.43, -2143]\n",
    "R = np.zeros((3,3))\n",
    "R[(2,1),(0,1)] = 1.\n",
    "R[0,2] = -1\n",
    "H3to0 = homogenousTransformationMatrix(R, origin)"
   ]
  },
  {
   "cell_type": "code",
   "execution_count": 26,
   "metadata": {
    "collapsed": false
   },
   "outputs": [],
   "source": [
    "np.savetxt('248Calibration.txt', H3to0, delimiter=',')"
   ]
  }
 ],
 "metadata": {
  "kernelspec": {
   "display_name": "Python 2",
   "language": "python",
   "name": "python2"
  },
  "language_info": {
   "codemirror_mode": {
    "name": "ipython",
    "version": 2
   },
   "file_extension": ".py",
   "mimetype": "text/x-python",
   "name": "python",
   "nbconvert_exporter": "python",
   "pygments_lexer": "ipython2",
   "version": "2.7.6"
  }
 },
 "nbformat": 4,
 "nbformat_minor": 0
}
